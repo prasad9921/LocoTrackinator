{
 "cells": [
  {
   "cell_type": "code",
   "execution_count": 2,
   "id": "individual-paste",
   "metadata": {
    "collapsed": true
   },
   "outputs": [
    {
     "name": "stdout",
     "output_type": "stream",
     "text": [
      "Enter name of person:4351\n",
      "images\n",
      "images/4351\n",
      "0\n",
      "1\n",
      "2\n",
      "3\n",
      "4\n",
      "Your browser has been opened to visit:\n",
      "\n",
      "    https://accounts.google.com/o/oauth2/auth?client_id=1011979417979-98bapkgq4ag6snor9qhepn38cmksdovd.apps.googleusercontent.com&redirect_uri=http%3A%2F%2Flocalhost%3A8080%2F&scope=https%3A%2F%2Fwww.googleapis.com%2Fauth%2Fdrive&access_type=offline&response_type=code\n",
      "\n",
      "Authentication successful.\n",
      "0\n",
      "1\n",
      "2\n",
      "3\n",
      "4\n",
      "0\n",
      "1\n",
      "2\n",
      "3\n",
      "4\n",
      "0\n",
      "1\n",
      "2\n",
      "3\n",
      "4\n",
      "0\n",
      "1\n",
      "2\n",
      "3\n",
      "4\n",
      "0\n",
      "1\n",
      "2\n",
      "3\n",
      "4\n",
      "0\n",
      "1\n",
      "2\n",
      "3\n",
      "4\n",
      "0\n",
      "1\n",
      "2\n",
      "3\n",
      "4\n",
      "0\n",
      "1\n",
      "2\n",
      "3\n",
      "4\n",
      "0\n",
      "1\n",
      "2\n",
      "3\n",
      "4\n",
      "0\n"
     ]
    }
   ],
   "source": [
    "import cv2\n",
    "import numpy as np\n",
    "import os\n",
    "import dlib\n",
    "from imutils import face_utils\n",
    "from imutils.face_utils import FaceAligner\n",
    "#from pydrive.auth import GoogleAuth\n",
    "#from pydrive.drive import GoogleDrive\n",
    "#gauth = GoogleAuth()\n",
    "#drive = GoogleDrive(gauth)"
   ]
  },
  {
   "cell_type": "code",
   "execution_count": null,
   "id": "derived-blackberry",
   "metadata": {},
   "outputs": [],
   "source": [
    "detector = dlib.get_frontal_face_detector()\n",
    "shape_predictor = dlib.shape_predictor(\"shape_predictor_68_face_landmarks.dat\")\n",
    "face_aligner = FaceAligner(shape_predictor, desiredFaceWidth=200)"
   ]
  },
  {
   "cell_type": "code",
   "execution_count": null,
   "id": "legal-brass",
   "metadata": {},
   "outputs": [],
   "source": [
    "face_cascade = cv2.CascadeClassifier('haarcascades/haarcascade_frontalface_default.xml')"
   ]
  },
  {
   "cell_type": "code",
   "execution_count": null,
   "id": "sporting-loading",
   "metadata": {},
   "outputs": [],
   "source": [
    "name = input(\"Enter name of person:\")\n",
    "countda=0\n",
    "#to upload data in google drive (extra authorizations are required)\n",
    "#gfile = drive.CreateFile({'parents': [{'id': 'place the link of folder in g-drive'}]})\n",
    "path = 'images'\n",
    "print(path)\n",
    "directory = os.path.join(path, name)\n",
    "print(directory)\n",
    "if not os.path.exists(directory):\n",
    "    os.makedirs(directory, exist_ok = 'True')\n",
    "else:\n",
    "    for image in os.listdir(os.path.join(directory)):\n",
    "        countda+=1\n",
    "        \n",
    "\n",
    "number_of_images = countda\n",
    "#give number of images u want\n",
    "MAX_NUMBER_OF_IMAGES = 10\n",
    "count = 0"
   ]
  },
  {
   "cell_type": "code",
   "execution_count": null,
   "id": "inclusive-confidence",
   "metadata": {},
   "outputs": [],
   "source": [
    "video_capture = cv2.VideoCapture(0)"
   ]
  },
  {
   "cell_type": "code",
   "execution_count": null,
   "id": "normal-instrument",
   "metadata": {},
   "outputs": [],
   "source": [
    "while number_of_images-countda < MAX_NUMBER_OF_IMAGES:\n",
    "    ret, frame = video_capture.read()\n",
    "\n",
    "    frame = cv2.flip(frame, 1)\n",
    "\n",
    "    \n",
    "    frame_gray = cv2.cvtColor(frame, cv2.COLOR_BGR2GRAY)\n",
    "\n",
    "    #faces = face_cascade.detectMultiScale(frame, 1.3, 5)\n",
    "    faces = detector(frame_gray)\n",
    "    if len(faces) == 1:\n",
    "        face = faces[0]\n",
    "        (x, y, w, h) = face_utils.rect_to_bb(face)\n",
    "        face_img = frame_gray[y-50:y + h+100, x-50:x + w+100]\n",
    "        face_aligned = face_aligner.align(frame, frame_gray, face)\n",
    "\n",
    "        if count == 5:\n",
    "            cv2.imwrite(os.path.join(directory, str(name+'-'+str(number_of_images)+'.jpg')), face_aligned)\n",
    "            #gfile = drive.CreateFile({'parents': [{'id': 'ID of the folder'}]})\n",
    "            #gfile.SetContentFile('images location /images/'+name+'/'+str(name+'-'+str(number_of_images)+'.jpg'))\n",
    "            #gfile.Upload()\n",
    "            number_of_images += 1\n",
    "            count = 0\n",
    "        print(count)\n",
    "        count+=1\n",
    "\n",
    "    cv2.imshow('Video', frame)\n",
    "\n",
    "    if(cv2.waitKey(1) & 0xFF == ord('q')):\n",
    "        break\n",
    "\n",
    "video_capture.release()\n",
    "cv2.destroyAllWindows()"
   ]
  }
 ],
 "metadata": {
  "kernelspec": {
   "display_name": "Python 3",
   "language": "python",
   "name": "python3"
  },
  "language_info": {
   "codemirror_mode": {
    "name": "ipython",
    "version": 3
   },
   "file_extension": ".py",
   "mimetype": "text/x-python",
   "name": "python",
   "nbconvert_exporter": "python",
   "pygments_lexer": "ipython3",
   "version": "3.7.10"
  }
 },
 "nbformat": 4,
 "nbformat_minor": 5
}
